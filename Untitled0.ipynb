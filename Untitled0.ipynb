{
  "nbformat": 4,
  "nbformat_minor": 0,
  "metadata": {
    "colab": {
      "name": "Untitled0.ipynb",
      "provenance": [],
      "authorship_tag": "ABX9TyOlo+7D6jO5fZr3wbdM2Cqm",
      "include_colab_link": true
    },
    "kernelspec": {
      "name": "python3",
      "display_name": "Python 3"
    }
  },
  "cells": [
    {
      "cell_type": "markdown",
      "metadata": {
        "id": "view-in-github",
        "colab_type": "text"
      },
      "source": [
        "<a href=\"https://colab.research.google.com/github/Gabigol07/Jarvis-Project/blob/master/Untitled0.ipynb\" target=\"_parent\"><img src=\"https://colab.research.google.com/assets/colab-badge.svg\" alt=\"Open In Colab\"/></a>"
      ]
    },
    {
      "cell_type": "code",
      "metadata": {
        "id": "v5wkyxIoaga-",
        "colab_type": "code",
        "colab": {}
      },
      "source": [
        "#declaração de variáveis\n",
        "#declarar uma variável que armazene o de uma pessoa\n",
        "\n",
        "pessoa  = 'Gabriel Cruz'\n",
        "pessoa2 = 'Maicon  Lidemi'\n",
        "pessoa3 = 'Gabriel Oliveira'\n",
        "pessoa4 = 'Gabriel Santos'\n",
        "\n"
      ],
      "execution_count": null,
      "outputs": []
    },
    {
      "cell_type": "code",
      "metadata": {
        "id": "G5ITYZarcst-",
        "colab_type": "code",
        "colab": {}
      },
      "source": [
        "# Declarando listas\n",
        "nome_lista - [] ## Lista vazia\n",
        "print (nome_lista)\n"
      ],
      "execution_count": null,
      "outputs": []
    },
    {
      "cell_type": "code",
      "metadata": {
        "id": "IDsPCCb3dI-7",
        "colab_type": "code",
        "colab": {}
      },
      "source": [
        "\n",
        "lista_nomes['Bruno Souza','Maicon Lidemi', 'Gabriel Oliveira','Gabriel Santos']\n",
        "print (lista_nomes)"
      ],
      "execution_count": null,
      "outputs": []
    },
    {
      "cell_type": "code",
      "metadata": {
        "id": "mzdkXj5Zic3y",
        "colab_type": "code",
        "colab": {
          "base_uri": "https://localhost:8080/",
          "height": 34
        },
        "outputId": "807673b7-7688-40fd-816d-a5c6f6cac314"
      },
      "source": [
        "list_countries= ['Angola', 'EUA', 'Holanda', 'Áustria', 'Canadá', 'Espanha', 'China']\n",
        "\n",
        "# Descobrir o tamanho da lista\n",
        "size_countries= len(list_countries)\n",
        "print(size_countries)"
      ],
      "execution_count": 4,
      "outputs": [
        {
          "output_type": "stream",
          "text": [
            "7\n"
          ],
          "name": "stdout"
        }
      ]
    },
    {
      "cell_type": "code",
      "metadata": {
        "id": "Y8UUaY6LjULK",
        "colab_type": "code",
        "colab": {
          "base_uri": "https://localhost:8080/",
          "height": 34
        },
        "outputId": "a521e6eb-68f1-485b-c5fd-6dfab92b8f01"
      },
      "source": [
        "print(list_countries[size_countries-1])"
      ],
      "execution_count": 6,
      "outputs": [
        {
          "output_type": "stream",
          "text": [
            "China\n"
          ],
          "name": "stdout"
        }
      ]
    },
    {
      "cell_type": "code",
      "metadata": {
        "id": "3UKnWTyfjoG5",
        "colab_type": "code",
        "colab": {
          "base_uri": "https://localhost:8080/",
          "height": 136
        },
        "outputId": "bc6136e3-3ea6-4ec4-b6f3-a090cf646ec1"
      },
      "source": [
        "for country in list_countries:\n",
        "    print(country)"
      ],
      "execution_count": 7,
      "outputs": [
        {
          "output_type": "stream",
          "text": [
            "Angola\n",
            "EUA\n",
            "Holanda\n",
            "Áustria\n",
            "Canadá\n",
            "Espanha\n",
            "China\n"
          ],
          "name": "stdout"
        }
      ]
    },
    {
      "cell_type": "code",
      "metadata": {
        "id": "9oUwyf4ckBSL",
        "colab_type": "code",
        "colab": {}
      },
      "source": [
        "# mostrando qual o indice do elemento dentro da lista\n",
        "for country in list_countries:\n",
        "print('posição:', list_countries.index(country), country)"
      ],
      "execution_count": null,
      "outputs": []
    },
    {
      "cell_type": "code",
      "metadata": {
        "id": "_lK9r1jalcou",
        "colab_type": "code",
        "colab": {
          "base_uri": "https://localhost:8080/",
          "height": 51
        },
        "outputId": "4452f6e0-ad41-4a3d-c71b-a4beb2635fb4"
      },
      "source": [
        "\n",
        "#mostrando a lista original\n",
        "print('original:', list_countries)\n",
        "#mostrando uma lista\n",
        "list_countries.sort()\n",
        "print('ordenada', list_countries)"
      ],
      "execution_count": 13,
      "outputs": [
        {
          "output_type": "stream",
          "text": [
            "original: ['Angola', 'Canadá', 'China', 'EUA', 'Espanha', 'Holanda', 'Áustria']\n",
            "ordenada ['Angola', 'Canadá', 'China', 'EUA', 'Espanha', 'Holanda', 'Áustria']\n"
          ],
          "name": "stdout"
        }
      ]
    },
    {
      "cell_type": "code",
      "metadata": {
        "id": "y1EZsBa7mVpw",
        "colab_type": "code",
        "colab": {}
      },
      "source": [
        ""
      ],
      "execution_count": null,
      "outputs": []
    }
  ]
}